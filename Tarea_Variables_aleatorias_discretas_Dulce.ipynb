{
  "cells": [
    {
      "cell_type": "markdown",
      "id": "d50d92d5",
      "metadata": {
        "id": "d50d92d5"
      },
      "source": [
        "# Variables aleatorias discretas"
      ]
    },
    {
      "cell_type": "code",
      "source": [
        "import scipy.stats as sps\n",
        "import matplotlib.pyplot as plt\n",
        "import numpy as np\n",
        "\n",
        "import numpy.random as npr\n",
        "from scipy.stats import randint\n",
        "import random\n",
        "import warnings\n",
        "warnings.filterwarnings('ignore')"
      ],
      "metadata": {
        "id": "mGmqIXD_s1-l"
      },
      "id": "mGmqIXD_s1-l",
      "execution_count": null,
      "outputs": []
    },
    {
      "cell_type": "markdown",
      "source": [
        "## Variable aleatoria Binomial Negativa con parámetros $r\\geq 1$ y $p\\in (0,1)$.\n",
        "\n",
        "Supongamos que se realizan ensayos independientes, cada uno con probabilidad $0<p<1$ de ser un éxito, hasta obtener un total de $r$ éxitos acumulados. Sea $X$ el número de ensayos que se requieren, entonces su función de masa de probabilidades está dada por:\n",
        "$$f_{X}(k)=\\begin{cases}\n",
        "\t\\binom{n-1}{r-1}p^{r}(1-p)^{n-r} &\\quad \\text{si } n=r,r+1,\\dots \\\\\n",
        "\t\\qquad 0 &\\quad \\text{en otro caso}  \n",
        "\\end{cases}$$\n",
        "\n",
        "\n",
        "\n",
        "Notación. $X\\sim \\text{BN}(r,p)$.\n",
        "\n",
        "Se tiene que\n",
        "$$\\mathbb{E}[X]=\\frac{r}{p}$$\n",
        "y\n",
        "$$\\text{Var}[X]=\\frac{r(1-p)}{p^2}.$$\n",
        "\n",
        "$\\color{red}{\\text{Ejercicio 4.}}$ Un examen de Estadística consta de 20 preguntas tipo test y se conoce de experiencias\n",
        "anteriores que un alumno tiene probabilidad 0.7 de contestar bien cada pregunta. Obtener:\n",
        "\n",
        "a) La probabilidad de que la primera pregunta que contesta bien sea la cuarta.\n",
        "\n",
        "b) Sabiendo que para aprobar el examen es necesario contestar bien a 10 preguntas, ¿cuál es la probabilidad de que apruebe al contestar la pregunta duodécima?\n",
        "\n",
        "$\\color{red}{\\text{Ejercicio 5.}}$ Investigue sobre el problema de la caja de cerillos de Banach y explique su solución."
      ],
      "metadata": {
        "id": "I39XPyC-nW6W"
      },
      "id": "I39XPyC-nW6W"
    },
    {
      "cell_type": "markdown",
      "source": [
        "## EJERCICIO 1\n",
        "\n",
        "Una variable aleatoria geométrica $X$ representa el número de ensayos hasta el primer éxito en una serie de ensayos de Bernoulli con probabilidad de éxito\n",
        "$p$. La función de masa de probabilidad está dada por:\n",
        "\n",
        "$$\n",
        "P(X=k) = \\mathbb{P}(X=k) = (1-p)^{k-1} p, \\quad k = 1, 2, 3, \\ldots\n",
        "$$\n",
        "\n",
        "**Notación:**  $ X \\sim \\text{Geom}(p) $\n",
        "\n",
        "La esperanza $( \\mathbb{E}[X] )$ se puede calcular de la siguiente manera:\n",
        "$$\n",
        "E[X] = \\sum_{k=1}^{\\infty} k (1-p)^{k-1} p\n",
        "$$\n",
        "Podemos extraer \\( p \\) fuera de la suma:\n",
        "\n",
        "$$\n",
        "E[X] = p \\sum_{k=1}^{\\infty} k (1-p)^{k-1}\n",
        "$$\n",
        "\n",
        "Para calcular la suma $( \\sum_{k=1}^{\\infty} k x^{k-1} )$, donde $( x = 1-p )$, utilizamos la fórmula:\n",
        "\n",
        "$$\n",
        "\\sum_{k=1}^{\\infty} k x^{k-1} = \\frac{1}{(1-x)^2} \\quad \\text{para } |x| < 1\n",
        "$$\n",
        "\n",
        "Sustituyendo $ x = 1-p $:\n",
        "\n",
        "$$\n",
        "\\sum_{k=1}^{\\infty} k (1-p)^{k-1} = \\frac{1}{p^2}\n",
        "$$\n",
        "\n",
        "Por lo tanto, la expectativa se convierte en:\n",
        "\n",
        "$$\n",
        "E[X] = p \\cdot \\frac{1}{p^2} = \\frac{1}{p}\n",
        "$$\n",
        "\n",
        "### Varianza\n",
        "\n",
        "La varianza se calcula usando la fórmula:\n",
        "\n",
        "$$\n",
        "\\text{Var}(X) = E[X^2] - (E[X])^2\n",
        "$$\n",
        "\n",
        "Primero, necesitamos calcular $( E[X^2] )$:\n",
        "\n",
        "$$\n",
        "E[X^2] = \\sum_{k=1}^{\\infty} k^2 P(X=k) = \\sum_{k=1}^{\\infty} k^2 (1-p)^{k-1} p\n",
        "$$\n",
        "\n",
        "De nuevo, extraemos $( p)$:\n",
        "\n",
        "$$\n",
        "E[X^2] = p \\sum_{k=1}^{\\infty} k^2 (1-p)^{k-1}\n",
        "$$\n",
        "\n",
        "Usamos la fórmula para la suma $ \\sum_{k=1}^{\\infty} k^2 x^{k-1} $:\n",
        "\n",
        "$$\n",
        "\\sum_{k=1}^{\\infty} k^2 x^{k-1} = \\frac{1+x}{(1-x)^3} \\quad \\text{para } |x| < 1\n",
        "$$\n",
        "\n",
        "Sustituyendo $( x = 1-p )$:\n",
        "\n",
        "$$\n",
        "E[X^2] = p \\cdot \\frac{1 + (1-p)}{p^3} = p \\cdot \\frac{2-p}{p^3} = \\frac{2-p}{p^2}\n",
        "$$\n",
        "\n",
        "Ahora sustituimos $ E[X] $ y $ E[X^2] $ en la fórmula de la varianza:\n",
        "\n",
        "$$\n",
        "(E[X])^2 = \\left(\\frac{1}{p}\\right)^2 = \\frac{1}{p^2}\n",
        "$$\n",
        "\n",
        "Por lo tanto, la varianza es:\n",
        "\n",
        "$$\n",
        "\\text{Var}(X) = E[X^2] - (E[X])^2 = \\frac{2-p}{p^2} - \\frac{1}{p^2} = \\frac{1-p}{p^2}\n",
        "$$\n",
        "\n",
        "\n"
      ],
      "metadata": {
        "id": "VsSXzDnvX64K"
      },
      "id": "VsSXzDnvX64K"
    },
    {
      "cell_type": "markdown",
      "source": [
        "## EJERCICIO 2\n",
        "\n",
        " Dibuja a la función de distribución acumulada de la variable aleatoria:\n",
        "$$S:\\{1,2,3,4,5,6\\}^{2}\\to \\{2, 3, 4, 5, 6, 7, 8, 9, 10, 11, 12 \\}$$\n",
        "\n",
        "dada por\n",
        "$S(i,j)=i+j.$"
      ],
      "metadata": {
        "id": "u2GNcNwmhMLj"
      },
      "id": "u2GNcNwmhMLj"
    },
    {
      "cell_type": "code",
      "source": [
        "from itertools import product\n",
        "from fractions import Fraction\n",
        "\n",
        "#### SUMA ####\n",
        "\n",
        "# Función de probabilidad global\n",
        "def P(A, Omega):\n",
        "    return Fraction(len(A), len(Omega))\n",
        "\n",
        "# Crear espacio muestral Omega\n",
        "L = [i for i in range(1, 7)]  # Lista de valores de 1 a 6\n",
        "Omega = set(product(L, repeat=2))  # Producto cartesiano para pares (i, j)\n",
        "\n",
        "# Calcular la suma S(i, j)\n",
        "S = {(i, j): i + j for i, j in Omega}\n",
        "\n",
        "# Contar las frecuencias de cada resultado\n",
        "resultados = {}\n",
        "for value in S.values():\n",
        "    if value in resultados:\n",
        "        resultados[value] += 1\n",
        "    else:\n",
        "        resultados[value] = 1\n",
        "\n",
        "# Imprimir resultados y probabilidades\n",
        "for value, count in sorted(resultados.items()):\n",
        "    probabilidad = P([value] * count, Omega)\n",
        "    print(f\"Suma: {value}, Frecuencia: {count}, Probabilidad: {probabilidad}\")"
      ],
      "metadata": {
        "colab": {
          "base_uri": "https://localhost:8080/"
        },
        "id": "L3A1ZAihiS0X",
        "outputId": "f5d5f148-8c36-46fe-d135-b056643c2db1"
      },
      "id": "L3A1ZAihiS0X",
      "execution_count": null,
      "outputs": [
        {
          "output_type": "stream",
          "name": "stdout",
          "text": [
            "Suma: 2, Frecuencia: 1, Probabilidad: 1/36\n",
            "Suma: 3, Frecuencia: 2, Probabilidad: 1/18\n",
            "Suma: 4, Frecuencia: 3, Probabilidad: 1/12\n",
            "Suma: 5, Frecuencia: 4, Probabilidad: 1/9\n",
            "Suma: 6, Frecuencia: 5, Probabilidad: 5/36\n",
            "Suma: 7, Frecuencia: 6, Probabilidad: 1/6\n",
            "Suma: 8, Frecuencia: 5, Probabilidad: 5/36\n",
            "Suma: 9, Frecuencia: 4, Probabilidad: 1/9\n",
            "Suma: 10, Frecuencia: 3, Probabilidad: 1/12\n",
            "Suma: 11, Frecuencia: 2, Probabilidad: 1/18\n",
            "Suma: 12, Frecuencia: 1, Probabilidad: 1/36\n"
          ]
        }
      ]
    },
    {
      "cell_type": "code",
      "source": [
        "import matplotlib.pyplot as plt\n",
        "from itertools import product\n",
        "from collections import defaultdict\n",
        "from fractions import Fraction\n",
        "\n",
        "# Función de probabilidad global\n",
        "def P(A, Omega):\n",
        "    return Fraction(len(A), len(Omega))\n",
        "\n",
        "# Crear espacio muestral Omega\n",
        "L = [i for i in range(1, 7)]  # Lista de valores de 1 a 6\n",
        "Omega = set(product(L, repeat=2))  # Producto cartesiano para pares (i, j)\n",
        "\n",
        "# Calcular la suma S(i, j)\n",
        "S = {(i, j): i + j for i, j in Omega}\n",
        "\n",
        "# Crear diccionario por defecto\n",
        "dS = defaultdict(set)  # Diccionario que almacenará las combinaciones para cada suma\n",
        "\n",
        "for (i, j), suma in S.items():\n",
        "    dS[suma].add((i, j))  # Añadir las combinaciones al diccionario\n",
        "\n",
        "# Calcular probabilidades\n",
        "leyS = {k: P(list(A), Omega) for k, A in dS.items()}\n",
        "\n",
        "# Verificación de que la suma de las probabilidades es 1\n",
        "sum_probS = sum(leyS.values())\n",
        "verificacionS = sum_probS == 1\n",
        "\n",
        "# Imprimir resultados\n",
        "print(\"Omega =\", Omega, \"\\n\", 'Cardinalidad =', len(Omega))\n",
        "print('--------------------------------------------------------', \"\\n\")\n",
        "\n",
        "\n",
        "# Preparar datos para el gráfico\n",
        "suma = list(leyS.keys())\n",
        "probabilidades = [float(leyS[k]) for k in suma]\n",
        "\n",
        "# Gráfico\n",
        "plt.figure(figsize=(10, 6))\n",
        "plt.bar(suma, probabilidades, color='green', edgecolor='black')\n",
        "\n",
        "plt.title('Función de Distribución Acumulativa')\n",
        "plt.xlabel('S(i, j)')\n",
        "plt.ylabel('Probabilidad')\n",
        "plt.xticks(suma)  # Mostrar cada valor en el eje x\n",
        "\n",
        "# Mostrar cuadrícula\n",
        "plt.grid(True)\n",
        "plt.show()\n"
      ],
      "metadata": {
        "colab": {
          "base_uri": "https://localhost:8080/",
          "height": 653
        },
        "id": "D1htFgW8hRCs",
        "outputId": "9277cfe8-0300-4f19-8d21-a664f0b319ea"
      },
      "id": "D1htFgW8hRCs",
      "execution_count": null,
      "outputs": [
        {
          "output_type": "stream",
          "name": "stdout",
          "text": [
            "Omega = {(3, 4), (4, 3), (3, 1), (5, 4), (4, 6), (5, 1), (2, 2), (1, 6), (2, 5), (1, 3), (6, 2), (6, 5), (4, 2), (4, 5), (3, 3), (5, 6), (3, 6), (5, 3), (2, 4), (1, 2), (2, 1), (1, 5), (6, 1), (6, 4), (3, 2), (4, 1), (3, 5), (5, 2), (4, 4), (5, 5), (1, 1), (1, 4), (2, 3), (2, 6), (6, 6), (6, 3)} \n",
            " Cardinalidad = 36\n",
            "-------------------------------------------------------- \n",
            "\n"
          ]
        },
        {
          "output_type": "display_data",
          "data": {
            "text/plain": [
              "<Figure size 1000x600 with 1 Axes>"
            ],
            "image/png": "[encoded data removed]"
          },
          "metadata": {}
        }
      ]
    },
    {
      "cell_type": "markdown",
      "source": [
        "## EJERCICIO 3\n",
        "Usando el atributo `.cdf`"
      ],
      "metadata": {
        "id": "CPtHkxCc1oo7"
      },
      "id": "CPtHkxCc1oo7"
    },
    {
      "cell_type": "code",
      "source": [
        "import numpy as np\n",
        "from scipy.stats import poisson\n",
        "\n",
        "# Parámetro de la distr Poisson / Tasa de ocurrencia de accidentes\n",
        "l = 2  #lambda\n",
        "\n",
        "# Calcular P(X > 2)  // P(X>2)= 1−P(X<=2)\n",
        "P_x_2 = 1 - poisson.cdf(2, l)  #.cdf(X, lambda) devuelve la probabilidad de que la variable aleatoria sea menor o igual a X.\n",
        "\n",
        "# Calcular P(X >= 1) //  P(X>=1)= 1−P(X<1) =1−P(X≤0)\n",
        "P_x_1 = 1 - poisson.cdf(0, l)\n",
        "\n",
        "# Calcular P(X > 2 | X >= 1)\n",
        "P_3 = P_x_2 / P_x_1\n",
        "\n",
        "# Mostrar resultados\n",
        "print(f\"P(X > 2) = {P_x_2:.4f}\")\n",
        "print(f\"P(X >= 1) = {P_x_1:.4f}\")\n",
        "print(f\"P(X > 2 | X >= 1) = {P_3:.4f}\")"
      ],
      "metadata": {
        "colab": {
          "base_uri": "https://localhost:8080/"
        },
        "id": "RJfMi9HG2gzP",
        "outputId": "2aed4c0e-b5de-4cfa-d832-7ba10ba519a3"
      },
      "id": "RJfMi9HG2gzP",
      "execution_count": null,
      "outputs": [
        {
          "output_type": "stream",
          "name": "stdout",
          "text": [
            "P(X > 2) = 0.3233\n",
            "P(X >= 1) = 0.8647\n",
            "P(X > 2 | X >= 1) = 0.3739\n"
          ]
        }
      ]
    },
    {
      "cell_type": "markdown",
      "source": [
        "## EJERCICIO 4\n",
        "Un examen de Estadística consta de 20 preguntas tipo test y se conoce de experiencias\n",
        "anteriores que un alumno tiene probabilidad 0.7 de contestar bien cada pregunta. Obtener:\n",
        "\n",
        "a) La probabilidad de que la primera pregunta que contesta bien sea la cuarta.\n",
        "\n",
        "b) Sabiendo que para aprobar el examen es necesario contestar bien a 10 preguntas, ¿cuál es la probabilidad de que apruebe al contestar la pregunta duodécima?"
      ],
      "metadata": {
        "id": "c6qK97k05R9w"
      },
      "id": "c6qK97k05R9w"
    },
    {
      "cell_type": "code",
      "source": [
        "from scipy.stats import nbinom\n",
        "\n",
        "#PARAMETROS\n",
        "# prob_exito= 0.7   q=(1-p)=0.3  n_total_preguntas=20\n",
        "p=0.7\n",
        "n=20\n",
        "\n",
        "# P(X=4)     =[(1−p)^(k−1)] (p) =(0.3) 4−1 ⋅(0.7)\n",
        "\n",
        "# a)\n",
        "r=1  # Número de éxitos requeridos\n",
        "k = 4  # Número de ensayos hasta el primer éxito\n",
        "probab_a= nbinom.pmf(k-1, r, p)  # o (1 - p)**(k - 1) * p\n",
        "print(f'Probabilidad de que la primera pregunta contestada bien sea la cuarta: {probab_a:.4f}')\n",
        "\n",
        "# b)\n",
        "\n",
        "# Al menos 10 éxitos en 12 preguntas\n",
        "r_b = 10  # Mínimo de éxitos requeridos\n",
        "k_b = 2 #número de fallos antes del décimo éxito\n",
        "probab_b = nbinom.pmf(k_b, r_b, p)\n",
        "print(f'Probabilidad de aprobar al contestar la pregunta duodécima: {probab_b:.4f}') #0.25814\n"
      ],
      "metadata": {
        "colab": {
          "base_uri": "https://localhost:8080/"
        },
        "id": "yTOP39-z5dge",
        "outputId": "6764cdfd-fb68-4dc2-ba2d-ca9e827098d3"
      },
      "id": "yTOP39-z5dge",
      "execution_count": null,
      "outputs": [
        {
          "output_type": "stream",
          "name": "stdout",
          "text": [
            "Probabilidad de que la primera pregunta contestada bien sea la cuarta: 0.0189\n",
            "Probabilidad de aprobar al contestar la pregunta duodécima: 0.1398\n"
          ]
        }
      ]
    },
    {
      "cell_type": "markdown",
      "source": [
        "## EJERCICIO 5\n",
        "Investigue sobre el problema de la caja de cerillos de Banach y explique su solución."
      ],
      "metadata": {
        "id": "G3d27rmM5_uq"
      },
      "id": "G3d27rmM5_uq"
    },
    {
      "cell_type": "markdown",
      "source": [
        "# El Problema de la Caja de Cerillos de Banach\n",
        "\n",
        "## Enunciado del Problema\n",
        "\n",
        "Imagina una caja de cerillos que contiene cerillos numerados del 1 al infinito (es decir, $ \\{1, 2, 3, \\ldots\\} $). El objetivo es seleccionar un conjunto de cerillos tal que:\n",
        "\n",
        "- No se puede elegir más de un cerillo con el mismo número.\n",
        "- Se puede elegir cualquier cerillo de la caja.\n",
        "\n",
        "El problema se puede expresar así: ¿Es posible seleccionar un conjunto de cerillos (números) tal que, para cualquier número natural $ \\ n $, el conjunto contenga el número $ \\ n  $ y el número $ \\ n+1  $?\n",
        "\n",
        "## Análisis del Problema\n",
        "\n",
        "La forma en que se aborda el problema implica considerar el conjunto de cerillos como un conjunto de números naturales. La clave aquí es que, a pesar de que los números naturales son contables, el proceso de elegir cerillos puede llevar a un conjunto que se comporta de manera diferente a lo que se esperaría.\n",
        "\n",
        "## Solución\n",
        "\n",
        "La solución al problema de la caja de cerillos de Banach es interesante porque utiliza ideas que desafían nuestra intuición. Se demuestra que sí es posible elegir un conjunto de cerillos que cumpla con las reglas usando el concepto de **conjuntos no contables**.\n",
        "\n",
        "## Argumento de la Solución\n",
        "\n",
        "### Construcción del Conjunto\n",
        "\n",
        "Se construye un conjunto de números que no puede ser enumerado de manera sencilla. Por ejemplo, podrías seleccionar todos los números que son potencias de 2 (como $\\ 1, 2, 4, 8, 16, \\ldots $) Si solo eliges estos cerillos, notarás que no puedes formar una secuencia completa de cerillos donde siempre tengas\n",
        "$n$ y $n+1$ juntos.\n",
        "\n",
        "### Proposición de Banach\n",
        "\n",
        "Banach mostró que, aunque el conjunto de cerillos parece ser infinito, se puede demostrar que no se puede cubrir toda la serie de números naturales de manera que se pueda cumplir con la propiedad de contener tanto \\($ n $ \\) como \\( $n+1$ \\).\n",
        "\n",
        "## Conclusiones\n",
        "\n",
        "El problema de la caja de cerillos de Banach es una manera de ilustrar los desafíos que presenta la teoría de conjuntos cuando se trata de infinitos. Al construir conjuntos que no cumplen con la propiedad deseada, se resalta que:\n",
        "\n",
        "* No siempre podemos cubrir todos los elementos de un conjunto infinito.\n",
        "* La intuición sobre cómo funcionan los números y sus relaciones puede fallar en contextos infinitos.\n",
        "* Los conjuntos no contables (como los números reales) tienen propiedades que no se encuentran en conjuntos contables (como los números naturales)."
      ],
      "metadata": {
        "id": "Sn2_JHOENo46"
      },
      "id": "Sn2_JHOENo46"
    },
    {
      "cell_type": "markdown",
      "source": [
        "## EJERCICIO 6\n",
        "Una compañía petrolera realiza un estudio geológico que indica que un pozo petrolero exploratorio debería tener un 20% de posibilidades de encontrar petróleo.\n",
        "\n",
        "- ¿Cuál es la probabilidad de que el primer pozo se produzca en el tercer pozo perforado?\n",
        "\n",
        "- ¿Cuál es la probabilidad de que el tercer pozo se produzca en el séptimo pozo perforado?\n",
        "\n",
        "- ¿Cuál es la media y la varianza del número de pozos que se deben perforar si la compañía petrolera quiere establecer tres pozos productores?"
      ],
      "metadata": {
        "id": "Vr00IC4pR_Ci"
      },
      "id": "Vr00IC4pR_Ci"
    },
    {
      "cell_type": "code",
      "source": [
        "import scipy.stats as stats\n",
        "from scipy.stats import nbinom\n",
        "\n",
        "# Parámetros generales\n",
        "p = 0.2  # Probabilidad de éxito\n",
        "r_a = 1  # Éxitos requeridos (para la parte a)\n",
        "r_b = 3  # Éxitos requeridos (para la parte b)\n",
        "\n",
        "# a) Probabilidad de localizar petróleo por primera vez en el tercer pozo\n",
        "y_a = 2  # dos fracasos antes del exito\n",
        "p_a = nbinom.pmf(y_a, r_a, p)\n",
        "print(f\"Probabilidad de encontrar petróleo por primera vez en el 3er pozo: p(3) = {p_a:.4f}\")\n",
        "\n",
        "# b) Probabilidad de encontrar el tercer pozo en el séptimo pozo\n",
        "y_b = 4  # 4 fracasos antes del tercer éxito.\n",
        "p_b = nbinom.pmf(y_b, r_b, p)\n",
        "print(f\"Probabilidad de encontrar el tercer pozo en el 7mo pozo: p(7) = {p_b:.4f}\")\n",
        "\n",
        "# 3. Media y varianza del número de pozos para establecer tres pozos productores\n",
        "r3=3\n",
        "media = r3 / p\n",
        "varianza = (r3 * (1 - p)) / (p**2)\n",
        "\n",
        "print(f'Media del número de pozos a perforar para establecer tres pozos: {media:.2f}')\n",
        "print(f'Varianza del número de pozos a perforar para establecer tres pozos: {varianza:.2f}')\n"
      ],
      "metadata": {
        "colab": {
          "base_uri": "https://localhost:8080/"
        },
        "id": "wAvxEfBiSNNt",
        "outputId": "d48cbad9-4770-44f7-8bd8-68fa6e569c2e"
      },
      "id": "wAvxEfBiSNNt",
      "execution_count": null,
      "outputs": [
        {
          "output_type": "stream",
          "name": "stdout",
          "text": [
            "Probabilidad de encontrar petróleo por primera vez en el 3er pozo: p(3) = 0.1280\n",
            "Probabilidad de encontrar el tercer pozo en el 7mo pozo: p(7) = 0.0492\n",
            "Media del número de pozos a perforar para establecer tres pozos: 15.00\n",
            "Varianza del número de pozos a perforar para establecer tres pozos: 60.00\n"
          ]
        }
      ]
    }
  ],
  "metadata": {
    "colab": {
      "provenance": []
    },
    "kernelspec": {
      "display_name": "Python 3 (ipykernel)",
      "language": "python",
      "name": "python3"
    },
    "language_info": {
      "codemirror_mode": {
        "name": "ipython",
        "version": 3
      },
      "file_extension": ".py",
      "mimetype": "text/x-python",
      "name": "python",
      "nbconvert_exporter": "python",
      "pygments_lexer": "ipython3",
      "version": "3.9.13"
    }
  },
  "nbformat": 4,
  "nbformat_minor": 5
}
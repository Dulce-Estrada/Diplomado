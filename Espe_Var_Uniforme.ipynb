{
  "nbformat": 4,
  "nbformat_minor": 0,
  "metadata": {
    "colab": {
      "provenance": []
    },
    "kernelspec": {
      "name": "python3",
      "display_name": "Python 3"
    },
    "language_info": {
      "name": "python"
    }
  },
  "cells": [
    {
      "cell_type": "markdown",
      "source": [
        "# Esperanza y varianza de la Uniforme"
      ],
      "metadata": {
        "id": "JVtyJCc-IJ3q"
      }
    },
    {
      "cell_type": "markdown",
      "source": [
        "### Demostraciones de una Distribución Uniforme Discreta\n",
        "\n",
        "Sea una variable aleatoria discreta $X$ que sigue una distribución uniforme discreta en el conjunto $({X_1, X_1 + 1, \\ldots, X_n})$. La función de masa de probabilidad (PMF) es:\n",
        "\n",
        "$$ P(X = k) = \\frac{1}{X_n - X_1 + 1} $$\n",
        "\n",
        "#### **1. Media**\n",
        "\n",
        "La media $E(X)$ se calcula como:\n",
        "\n",
        "$$ E(X) = \\sum_{k=X_1}^{X_n} k \\cdot P(X = k) $$\n",
        "\n",
        "Sustituyendo la PMF:\n",
        "\n",
        "$$ E(X) = \\sum_{k=X_1}^{X_n} k \\cdot \\frac{1}{X_n - X_1 + 1} $$\n",
        "\n",
        "Como $( \\frac{1}{X_n - X_1 + 1} )$ es una constante, se puede sacar fuera de la suma:\n",
        "\n",
        "$$ E(X) = \\frac{1}{X_n - X_1 + 1} \\sum_{k=X_1}^{X_n} k $$\n",
        "\n",
        "La suma de una secuencia aritmética es:\n",
        "\n",
        "$$ \\sum_{k=X_1}^{X_n} k = \\frac{(X_n - X_1 + 1)(X_1 + X_n)}{2} $$\n",
        "\n",
        "Por lo tanto:\n",
        "\n",
        "$$ E(X) = \\frac{1}{X_n - X_1 + 1} \\cdot \\frac{(X_n - X_1 + 1)(X_1 + X_n)}{2} $$\n",
        "\n",
        "Simplificando:\n",
        "\n",
        "$$ E(X) = \\frac{X_1 + X_n}{2} $$\n",
        "\n",
        "#### **2. Varianza**\n",
        "\n",
        "La varianza ${Var}(X)$ se calcula como:\n",
        "\n",
        "$$ \\text{Var}(X) = E(X^2) - \\left(E(X)\\right)^2 $$\n",
        "\n",
        "Primero, calculamos $E(X^2)$:\n",
        "\n",
        "$$ E(X^2) = \\sum_{k=X_1}^{X_n} k^2 \\cdot P(X = k) $$\n",
        "\n",
        "Sustituyendo la PMF:\n",
        "\n",
        "$$ E(X^2) = \\frac{1}{X_n - X_1 + 1} \\sum_{k=X_1}^{X_n} k^2 $$\n",
        "\n",
        "La suma de los cuadrados es:\n",
        "\n",
        "$$ \\sum_{k=X_1}^{X_n} k^2 = \\frac{(X_n - X_1 + 1)(X_1^2 + X_n^2 + X_1 X_n)}{3} $$\n",
        "\n",
        "Entonces:\n",
        "\n",
        "$$ E(X^2) = \\frac{1}{X_n - X_1 + 1} \\cdot \\frac{(X_n - X_1 + 1)(X_1^2 + X_n^2 + X_1 X_n)}{3} $$\n",
        "\n",
        "$$ E(X^2) = \\frac{X_1^2 + X_n^2 + X_1 X_n}{3} $$\n",
        "\n",
        "La varianza es:\n",
        "\n",
        "$$ {Var}(X) = E(X^2) - \\left(E(X)\\right)^2 $$\n",
        "\n",
        "\n",
        "Sustituyendo $E(X) = \\frac{X_1 + X_n}{2}$ y $E(X^2)$ :\n",
        "\n",
        "$$ \\text{Var}(X) = \\frac{X_1^2 + X_n^2 + X_1 X_n}{3} - \\left(\\frac{X_1 + X_n}{2}\\right)^2 $$\n",
        "\n",
        "$\\left(\\frac{X_1 + X_n}{2}\\right)^2$:\n",
        "$ \\left(\\frac{X_1 + X_n}{2}\\right)^2 = \\frac{X_1^2 + 2X_1 X_n + X_n^2}{4} $\n",
        "\n",
        "Entonces:\n",
        "\n",
        "$$ \\text{Var}(X) = \\frac{X_1^2 + X_n^2 + X_1 X_n}{3} - \\frac{X_1^2 + 2X_1 X_n + X_n^2}{4} $$\n",
        "\n",
        "Simplificando:\n",
        "\n",
        "$$ \\text{Var}(X) = \\frac{4(X_1^2 + X_n^2 + X_1 X_n) - 3(X_1^2 + 2X_1 X_n + X_n^2)}{12} $$\n",
        "\n",
        "$$ \\text{Var}(X) = \\frac{(X_n - X_1 + 1)^2 - 1}{12} $$\n"
      ],
      "metadata": {
        "id": "X0KC3fnUH_3P"
      }
    },
    {
      "cell_type": "code",
      "source": [],
      "metadata": {
        "id": "yx3EqwhbIANP"
      },
      "execution_count": null,
      "outputs": []
    }
  ]
}
